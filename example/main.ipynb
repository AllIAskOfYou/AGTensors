{
 "cells": [
  {
   "cell_type": "code",
   "execution_count": 1,
   "metadata": {},
   "outputs": [],
   "source": [
    "import sys\n",
    "import os\n",
    "\n",
    "# Add parent directory to sys.path\n",
    "sys.path.append(os.path.abspath(os.path.join(os.getcwd(), '../src')))\n",
    "import modules as mm\n",
    "import numpy as np"
   ]
  },
  {
   "cell_type": "code",
   "execution_count": 2,
   "metadata": {},
   "outputs": [],
   "source": [
    "\n",
    "def softmax(x):\n",
    "    exps = mm.exp(x-x.data.max(axis=1, keepdims=True))\n",
    "    return exps/exps.sum(axis=1, keepdims=True)\n",
    "\n",
    "def NLL(y_pred, y_true, reduce=True):\n",
    "    loss = mm.log(y_pred[np.arange(len(y_true)), y_true.astype(int)])\n",
    "    return -loss.mean() if reduce else -loss\n",
    "\n",
    "def NLL_np(y_pred, y_true):\n",
    "    \"\"\"\n",
    "    NLL loss for numpy arrays.\n",
    "    \"\"\"\n",
    "    loss = np.log(y_pred[np.arange(len(y_true)), y_true.astype(int)])\n",
    "    return -loss\n",
    "\n",
    "\n",
    "class Linear(mm.Module):\n",
    "    def __init__(self, in_features, out_features):\n",
    "        super().__init__()\n",
    "        self.in_features = in_features\n",
    "        self.out_features = out_features\n",
    "        self.weight = mm.Parameter(\n",
    "            data=np.random.uniform(-1, 1, (in_features, out_features)) \n",
    "                * np.sqrt(6 / (in_features + out_features)),\n",
    "            dtype=np.float32)\n",
    "        self.bias = mm.Parameter(\n",
    "            data=np.zeros((1, out_features)),\n",
    "            dtype=np.float32,\n",
    "            regularize=False)\n",
    "\n",
    "    def forward(self, x):\n",
    "        return x @ self.weight + self.bias\n",
    "\n",
    "\n",
    "class ANN(mm.Module):\n",
    "    def __init__(self, units=[]):\n",
    "        super().__init__()\n",
    "        self.units = units\n",
    "        self.layers = []\n",
    "        for i in range(len(units)-1):\n",
    "            self.layers.append(Linear(units[i], units[i+1]))\n",
    "        self.register_layers(self.layers)\n",
    "\n",
    "    def forward(self, x):\n",
    "        for layer in self.layers[:-1]:\n",
    "            x = mm.sigmoid(layer(x))\n",
    "        x = self.layers[-1](x)\n",
    "        return x\n",
    "\n",
    "class ANNSoftmax(mm.Module):\n",
    "    def __init__(self, input_dim, n_classes, units):\n",
    "        super().__init__()\n",
    "        self.units = units\n",
    "        self.n_classes = n_classes\n",
    "        self.ann = ANN((input_dim,) + tuple(units) + (n_classes-1,))\n",
    "\n",
    "    def forward(self, x):\n",
    "        x = self.ann(x)\n",
    "        out = mm.zeros((x.shape[0], x.shape[1]+1), dtype=x.data.dtype)\n",
    "        out[:, :-1] = x\n",
    "        out = softmax(out)\n",
    "        return out"
   ]
  },
  {
   "cell_type": "code",
   "execution_count": 3,
   "metadata": {},
   "outputs": [],
   "source": [
    "import pandas as pd\n",
    "import evaluation as eval\n",
    "\n",
    "def accuracy(y_pred, y_true):\n",
    "    y_pred = np.argmax(y_pred.data, axis=1)\n",
    "    return y_pred == y_true"
   ]
  },
  {
   "cell_type": "code",
   "execution_count": 4,
   "metadata": {},
   "outputs": [],
   "source": [
    "np.random.seed(3)\n",
    "\n",
    "# import and prepare data\n",
    "data_path = 'housing3.csv'\n",
    "data = pd.read_csv(data_path)\n",
    "X = data.drop(columns='Class').to_numpy()\n",
    "m = X.mean(axis=0)\n",
    "s = X.std(axis=0)\n",
    "X = (X - m) / s\n",
    "y = pd.factorize(data['Class'])[0]\n",
    "n_classes = len(np.unique(y))"
   ]
  },
  {
   "cell_type": "code",
   "execution_count": 5,
   "metadata": {},
   "outputs": [
    {
     "name": "stdout",
     "output_type": "stream",
     "text": [
      "CONVERGENCE: REL_REDUCTION_OF_F_<=_FACTR*EPSMCH\n",
      "CONVERGENCE: NORM_OF_PROJECTED_GRADIENT_<=_PGTOL\n",
      "CONVERGENCE: REL_REDUCTION_OF_F_<=_FACTR*EPSMCH\n",
      "CONVERGENCE: NORM_OF_PROJECTED_GRADIENT_<=_PGTOL\n",
      "CONVERGENCE: NORM_OF_PROJECTED_GRADIENT_<=_PGTOL\n"
     ]
    },
    {
     "data": {
      "text/plain": [
       "'Accuracy: 0.28 +- 0.028'"
      ]
     },
     "metadata": {},
     "output_type": "display_data"
    }
   ],
   "source": [
    "# define and train simple multinomial logistic regression model\n",
    "learner = mm.Learner(\n",
    "    model=ANNSoftmax,\n",
    "    model_args={\n",
    "        'input_dim': X.shape[1],\n",
    "        'n_classes': n_classes,\n",
    "        'units': []\n",
    "    },\n",
    "    loss=NLL,\n",
    "    lambda_=0.0\n",
    ")\n",
    "metrics = eval.k_fold(X, y, learner.fit, NLL_np, k=5)\n",
    "score = eval.bootstrap(metrics, reduce=np.mean, bootstraps=10000)\n",
    "display(f'Accuracy: {round(score[0], 3)} +- {round(score[1], 3)}')"
   ]
  },
  {
   "cell_type": "code",
   "execution_count": 6,
   "metadata": {},
   "outputs": [
    {
     "name": "stdout",
     "output_type": "stream",
     "text": [
      "CONVERGENCE: NORM_OF_PROJECTED_GRADIENT_<=_PGTOL\n",
      "CONVERGENCE: NORM_OF_PROJECTED_GRADIENT_<=_PGTOL\n",
      "CONVERGENCE: REL_REDUCTION_OF_F_<=_FACTR*EPSMCH\n",
      "CONVERGENCE: NORM_OF_PROJECTED_GRADIENT_<=_PGTOL\n",
      "CONVERGENCE: REL_REDUCTION_OF_F_<=_FACTR*EPSMCH\n"
     ]
    },
    {
     "data": {
      "text/plain": [
       "'Accuracy: 0.255 +- 0.024'"
      ]
     },
     "metadata": {},
     "output_type": "display_data"
    }
   ],
   "source": [
    "# define and train a bit more complex model\n",
    "learner = mm.Learner(\n",
    "    model=ANNSoftmax,\n",
    "    model_args={\n",
    "        'input_dim': X.shape[1],\n",
    "        'n_classes': n_classes,\n",
    "        'units': [42]\n",
    "    },\n",
    "    loss=NLL,\n",
    "    lambda_=0.004\n",
    ")\n",
    "metrics = eval.k_fold(X, y, learner.fit, NLL_np, k=5)\n",
    "score = eval.bootstrap(metrics, reduce=np.mean, bootstraps=10000)\n",
    "display(f'Accuracy: {round(score[0], 3)} +- {round(score[1], 3)}')"
   ]
  }
 ],
 "metadata": {
  "kernelspec": {
   "display_name": "generic",
   "language": "python",
   "name": "python3"
  },
  "language_info": {
   "codemirror_mode": {
    "name": "ipython",
    "version": 3
   },
   "file_extension": ".py",
   "mimetype": "text/x-python",
   "name": "python",
   "nbconvert_exporter": "python",
   "pygments_lexer": "ipython3",
   "version": "3.10.13"
  }
 },
 "nbformat": 4,
 "nbformat_minor": 2
}
